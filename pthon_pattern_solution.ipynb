{
  "cells": [
    {
      "cell_type": "markdown",
      "metadata": {
        "id": "view-in-github",
        "colab_type": "text"
      },
      "source": [
        "<a href=\"https://colab.research.google.com/github/Manish1176/Machine-Learning-Project/blob/main/pthon_pattern_solution.ipynb\" target=\"_parent\"><img src=\"https://colab.research.google.com/assets/colab-badge.svg\" alt=\"Open In Colab\"/></a>"
      ]
    },
    {
      "cell_type": "code",
      "execution_count": null,
      "metadata": {
        "colab": {
          "base_uri": "https://localhost:8080/"
        },
        "id": "7BC06tjC8niu",
        "outputId": "e37593dc-eec8-49c4-b5c1-e529fd3b1e2d"
      },
      "outputs": [
        {
          "name": "stdout",
          "output_type": "stream",
          "text": [
            "Enter name1:manish\n",
            "Enter name2:monish\n",
            "m\n",
            "n\n",
            "i\n",
            "s\n",
            "h\n"
          ]
        }
      ],
      "source": [
        "a = input('Enter name1:')\n",
        "b = input('Enter name2:')\n",
        "for i in range(len(a)):\n",
        "    for j in range(len(b)):\n",
        "        if a[i] == b[j]:\n",
        "            print(a[i])\n",
        "            break"
      ]
    },
    {
      "cell_type": "code",
      "execution_count": null,
      "metadata": {
        "colab": {
          "base_uri": "https://localhost:8080/"
        },
        "id": "tKYqd8kn-6Ys",
        "outputId": "df80671c-abc1-44c6-9a09-4d36aba429a7"
      },
      "outputs": [
        {
          "name": "stdout",
          "output_type": "stream",
          "text": [
            "str1:manish\n",
            "str2:monish\n",
            "{'i', 'm', 'n', 's', 'h'}\n"
          ]
        }
      ],
      "source": [
        "a=input('str1:')\n",
        "b=input('str2:')\n",
        "s1=set(a)\n",
        "s2=set(b)\n",
        "lst=s1 & s2\n",
        "print(lst)"
      ]
    },
    {
      "cell_type": "code",
      "execution_count": null,
      "metadata": {
        "colab": {
          "base_uri": "https://localhost:8080/"
        },
        "id": "K12AVrCaADlb",
        "outputId": "9c0bef97-17e5-4c60-9748-67d19163392c"
      },
      "outputs": [
        {
          "name": "stdout",
          "output_type": "stream",
          "text": [
            "Enter a line:Shena loves eating apple and mango. Her sister also loves sating apple and mango.\n",
            "{'Shena': 1, 'loves': 2, 'eating': 1, 'apple': 2, 'and': 2, 'mango.': 2, 'Her': 1, 'sister': 1, 'also': 1, 'sating': 1}\n"
          ]
        }
      ],
      "source": [
        "text = input('Enter a line:')\n",
        "t1 = text.split()\n",
        "d={}\n",
        "for word in t1:\n",
        "    if word not in d:\n",
        "        d[word]=1\n",
        "    else:\n",
        "        d[word]+=1\n",
        "print(d)"
      ]
    },
    {
      "cell_type": "code",
      "execution_count": null,
      "metadata": {
        "colab": {
          "base_uri": "https://localhost:8080/"
        },
        "id": "sohySJaxEYBF",
        "outputId": "fbbfde30-040e-41fc-92ee-438f75a59578"
      },
      "outputs": [
        {
          "name": "stdout",
          "output_type": "stream",
          "text": [
            "{1: 'one', 2: 'two', 3: 'three'}\n"
          ]
        }
      ],
      "source": [
        "key = [1,2,3]\n",
        "value = ['one','two','three']\n",
        "result = dict(zip(key,value))\n",
        "print(result)"
      ]
    },
    {
      "cell_type": "code",
      "execution_count": null,
      "metadata": {
        "colab": {
          "base_uri": "https://localhost:8080/"
        },
        "id": "NkrZqpL6K9fz",
        "outputId": "606c2908-3ab6-44c9-a228-683c1e680f05"
      },
      "outputs": [
        {
          "name": "stdout",
          "output_type": "stream",
          "text": [
            "(1, 'one')\n",
            "(2, 'two')\n",
            "(3, 'three')\n"
          ]
        }
      ],
      "source": [
        "x={1: 'one', 2: 'two', 3: 'three'}\n",
        "for i in x.items():\n",
        "  print(i)"
      ]
    },
    {
      "cell_type": "code",
      "execution_count": null,
      "metadata": {
        "colab": {
          "base_uri": "https://localhost:8080/"
        },
        "id": "Wqu_YiCLRmZP",
        "outputId": "a2e3b5fe-915e-4199-9683-655f390284ba"
      },
      "outputs": [
        {
          "name": "stdout",
          "output_type": "stream",
          "text": [
            "3\n"
          ]
        }
      ],
      "source": [
        "a=[1,2,4,5,6,7]\n",
        "n=a[-1]\n",
        "total=n*(n+1)//2\n",
        "sum1=sum(a)\n",
        "print(total-sum1)"
      ]
    },
    {
      "cell_type": "code",
      "execution_count": null,
      "metadata": {
        "colab": {
          "base_uri": "https://localhost:8080/"
        },
        "id": "VzfyvDHgeZH8",
        "outputId": "f01c0a63-00e9-4eac-b402-ae7a416bc9eb"
      },
      "outputs": [
        {
          "name": "stdout",
          "output_type": "stream",
          "text": [
            "* * * * * \n",
            "* * * * * \n",
            "* * * * * \n",
            "* * * * * \n",
            "* * * * * \n"
          ]
        }
      ],
      "source": [
        "n=5\n",
        "for i in range(n): # denotes row\n",
        "  for j in range(n): # denotes column\n",
        "    print('*',end=' ')\n",
        "  print()"
      ]
    },
    {
      "cell_type": "code",
      "execution_count": null,
      "metadata": {
        "colab": {
          "base_uri": "https://localhost:8080/"
        },
        "id": "mXnLwk3t-Ogo",
        "outputId": "999e510b-bab2-4f16-eb52-c09192b198d8"
      },
      "outputs": [
        {
          "name": "stdout",
          "output_type": "stream",
          "text": [
            "* \n",
            "* * \n",
            "* * * \n",
            "* * * * \n",
            "* * * * * \n"
          ]
        }
      ],
      "source": [
        "n=5\n",
        "for i in range(n):\n",
        "  for j in range(i+1):\n",
        "    print('*',end=' ')\n",
        "  print()"
      ]
    },
    {
      "cell_type": "code",
      "execution_count": null,
      "metadata": {
        "colab": {
          "base_uri": "https://localhost:8080/"
        },
        "id": "YH2nMHMU-clH",
        "outputId": "aa578700-c689-40e3-f683-bbaa5909d608"
      },
      "outputs": [
        {
          "name": "stdout",
          "output_type": "stream",
          "text": [
            "* * * * * \n",
            "* * * * \n",
            "* * * \n",
            "* * \n",
            "* \n"
          ]
        }
      ],
      "source": [
        "n=5\n",
        "for i in range(n):\n",
        "  for j in range(i,n):\n",
        "    print('*',end=' ')\n",
        "  print()"
      ]
    },
    {
      "cell_type": "code",
      "execution_count": null,
      "metadata": {
        "colab": {
          "base_uri": "https://localhost:8080/"
        },
        "id": "tG9cgStDCDLz",
        "outputId": "42d0e58e-88d2-4308-cc2a-d9dfaba37534"
      },
      "outputs": [
        {
          "name": "stdout",
          "output_type": "stream",
          "text": [
            "          * \n",
            "        * * \n",
            "      * * * \n",
            "    * * * * \n",
            "  * * * * * \n"
          ]
        }
      ],
      "source": [
        "n=5\n",
        "for i in range(n):\n",
        "  for j in range(i,n):\n",
        "    print(' ',end=' ')\n",
        "  for j in range(i+1):\n",
        "    print('*',end=' ')\n",
        "  print()"
      ]
    },
    {
      "cell_type": "code",
      "execution_count": null,
      "metadata": {
        "colab": {
          "base_uri": "https://localhost:8080/"
        },
        "id": "4IMogWKyDDoY",
        "outputId": "d1bbbd59-2bfe-4013-ff4c-e0dd9f911d99"
      },
      "outputs": [
        {
          "name": "stdout",
          "output_type": "stream",
          "text": [
            "  * * * * * \n",
            "    * * * * \n",
            "      * * * \n",
            "        * * \n",
            "          * \n"
          ]
        }
      ],
      "source": [
        "n=5\n",
        "for i in range(n):\n",
        "  for j in range(i+1):\n",
        "    print(' ',end=' ')\n",
        "  for j in range(i,n):\n",
        "    print('*',end=' ')\n",
        "  print()"
      ]
    },
    {
      "cell_type": "code",
      "execution_count": null,
      "metadata": {
        "colab": {
          "base_uri": "https://localhost:8080/"
        },
        "id": "n-7MW_JfEkhI",
        "outputId": "971832c8-4f1b-4040-9c22-4a58c7e4b88e"
      },
      "outputs": [
        {
          "name": "stdout",
          "output_type": "stream",
          "text": [
            "     * \n",
            "    * * \n",
            "   * * * \n",
            "  * * * * \n",
            " * * * * * \n"
          ]
        }
      ],
      "source": [
        "n=5\n",
        "for i in range(n):\n",
        "  for j in range(i,n):\n",
        "    print('',end=' ')\n",
        "  for j in range(i+1):\n",
        "    print('*',end=' ')\n",
        "  print()"
      ]
    },
    {
      "cell_type": "code",
      "execution_count": null,
      "metadata": {
        "colab": {
          "base_uri": "https://localhost:8080/"
        },
        "id": "TiH0CRwVFGjX",
        "outputId": "00443415-9584-47d3-ecf0-8ab251ea8743"
      },
      "outputs": [
        {
          "name": "stdout",
          "output_type": "stream",
          "text": [
            " * * * * * \n",
            "  * * * * \n",
            "   * * * \n",
            "    * * \n",
            "     * \n"
          ]
        }
      ],
      "source": [
        "n=5\n",
        "for i in range(n):\n",
        "  for j in range(i+1):\n",
        "    print('',end=' ')\n",
        "  for j in range(i,n):\n",
        "    print('*',end=' ')\n",
        "  print()"
      ]
    },
    {
      "cell_type": "code",
      "execution_count": null,
      "metadata": {
        "colab": {
          "base_uri": "https://localhost:8080/"
        },
        "id": "WFz6EcHwFfrN",
        "outputId": "f01380c7-2774-41cd-dab7-cefdcd4d3046"
      },
      "outputs": [
        {
          "name": "stdout",
          "output_type": "stream",
          "text": [
            "     * \n",
            "    * * \n",
            "   * * * \n",
            "  * * * * \n",
            " * * * * * \n",
            " * * * * * \n",
            "  * * * * \n",
            "   * * * \n",
            "    * * \n",
            "     * \n"
          ]
        }
      ],
      "source": [
        "n=5\n",
        "for i in range(n):\n",
        "  for j in range(i,n):\n",
        "    print('',end=' ')\n",
        "  for j in range(i+1):\n",
        "    print('*',end=' ')\n",
        "  print()\n",
        "for i in range(n):\n",
        "  for j in range(i+1):\n",
        "    print('',end=' ')\n",
        "  for j in range(i,n):\n",
        "    print('*',end=' ')\n",
        "  print()\n",
        "# In center we get two rows of same length but we need one common row for both upward and downward traingle ie in diamond shape"
      ]
    },
    {
      "cell_type": "code",
      "execution_count": null,
      "metadata": {
        "colab": {
          "base_uri": "https://localhost:8080/"
        },
        "id": "jDUrG3OJF92k",
        "outputId": "761073f6-f2ed-4777-c59e-3cc5a8b57b73"
      },
      "outputs": [
        {
          "name": "stdout",
          "output_type": "stream",
          "text": [
            "     * \n",
            "    * * \n",
            "   * * * \n",
            "  * * * * \n",
            " * * * * * \n",
            "  * * * * \n",
            "   * * * \n",
            "    * * \n",
            "     * \n"
          ]
        }
      ],
      "source": [
        "n=5\n",
        "for i in range(n -1):\n",
        "  for j in range(i,n):\n",
        "    print('',end=' ')\n",
        "  for j in range(i+1):\n",
        "    print('*',end=' ')\n",
        "  print()\n",
        "for i in range(n):\n",
        "  for j in range(i+1):\n",
        "    print('',end=' ')\n",
        "  for j in range(i,n):\n",
        "    print('*',end=' ')\n",
        "  print()\n",
        "# foe acheiving one common row we should delete one row from outer loop ie n-1"
      ]
    },
    {
      "cell_type": "code",
      "execution_count": null,
      "metadata": {
        "colab": {
          "base_uri": "https://localhost:8080/"
        },
        "id": "fLKa8Pn4SmcJ",
        "outputId": "b988f1a1-1d4b-4577-9fae-b9d343e059a0"
      },
      "outputs": [
        {
          "name": "stdout",
          "output_type": "stream",
          "text": [
            "1 \n",
            "1 2 \n",
            "1 2 3 \n",
            "1 2 3 4 \n",
            "1 2 3 4 5 \n",
            "1 2 3 4 5 6 \n"
          ]
        }
      ],
      "source": [
        "n=6\n",
        "for i in range(n):\n",
        "  for j in range(i+1):\n",
        "    print(j+1,end=' ')\n",
        "  print()"
      ]
    },
    {
      "cell_type": "code",
      "execution_count": null,
      "metadata": {
        "colab": {
          "base_uri": "https://localhost:8080/"
        },
        "id": "InKtQhp7Tsom",
        "outputId": "c5299144-6d95-4165-9e89-6834b9f35777"
      },
      "outputs": [
        {
          "name": "stdout",
          "output_type": "stream",
          "text": [
            "1 \n",
            "2 1 \n",
            "3 2 1 \n",
            "4 3 2 1 \n",
            "5 4 3 2 1 \n",
            "6 5 4 3 2 1 \n"
          ]
        }
      ],
      "source": [
        "n=6\n",
        "for i in range(n):\n",
        "  for j in range(i,-1,-1):\n",
        "    print(j+1,end=' ')\n",
        "  print()"
      ]
    },
    {
      "cell_type": "code",
      "execution_count": null,
      "metadata": {
        "colab": {
          "base_uri": "https://localhost:8080/"
        },
        "id": "e7VlxGhRUNx3",
        "outputId": "eac97e58-1b22-41d9-f47e-42ebe1c0f683"
      },
      "outputs": [
        {
          "name": "stdout",
          "output_type": "stream",
          "text": [
            "1 \n",
            "2 2 \n",
            "3 3 3 \n",
            "4 4 4 4 \n",
            "5 5 5 5 5 \n",
            "6 6 6 6 6 6 \n"
          ]
        }
      ],
      "source": [
        "n=6\n",
        "for i in range(n):\n",
        "  for j in range(i+1):\n",
        "    print(i+1,end=' ')\n",
        "  print()"
      ]
    },
    {
      "cell_type": "code",
      "execution_count": null,
      "metadata": {
        "colab": {
          "base_uri": "https://localhost:8080/"
        },
        "id": "vyM6mmAjUSm_",
        "outputId": "2488af03-4a9d-4e48-c7fa-d027f40cf5a4"
      },
      "outputs": [
        {
          "name": "stdout",
          "output_type": "stream",
          "text": [
            "6 \n",
            "5 5 \n",
            "4 4 4 \n",
            "3 3 3 3 \n",
            "2 2 2 2 2 \n",
            "1 1 1 1 1 1 \n"
          ]
        }
      ],
      "source": [
        "n=6\n",
        "for i in range(n):\n",
        "  for j in range(i+1):\n",
        "    print(n-i,end=' ')\n",
        "  print()"
      ]
    },
    {
      "cell_type": "code",
      "execution_count": null,
      "metadata": {
        "colab": {
          "base_uri": "https://localhost:8080/"
        },
        "id": "UDsbZsonVJPN",
        "outputId": "2b3eae0e-8df3-4c08-d48b-0348f649d795"
      },
      "outputs": [
        {
          "name": "stdout",
          "output_type": "stream",
          "text": [
            "6 \n",
            "6 5 \n",
            "6 5 4 \n",
            "6 5 4 3 \n",
            "6 5 4 3 2 \n",
            "6 5 4 3 2 1 \n"
          ]
        }
      ],
      "source": [
        "n=6\n",
        "for i in range(n):\n",
        "  for j in range(i+1):\n",
        "    print(n-j,end=' ')\n",
        "  print()"
      ]
    },
    {
      "cell_type": "code",
      "execution_count": null,
      "metadata": {
        "colab": {
          "base_uri": "https://localhost:8080/"
        },
        "id": "4MteRV_MVlh7",
        "outputId": "459e78cb-a92a-46eb-f14c-414a6cac1441"
      },
      "outputs": [
        {
          "name": "stdout",
          "output_type": "stream",
          "text": [
            "6 \n",
            "5 6 \n",
            "4 5 6 \n",
            "3 4 5 6 \n",
            "2 3 4 5 6 \n",
            "1 2 3 4 5 6 \n"
          ]
        }
      ],
      "source": [
        "n=6\n",
        "for i in range(n):\n",
        "  for j in range(i,-1,-1):\n",
        "    print(n-j,end=' ')\n",
        "  print()"
      ]
    },
    {
      "cell_type": "code",
      "execution_count": null,
      "metadata": {
        "colab": {
          "base_uri": "https://localhost:8080/"
        },
        "id": "z4a6dOJshEOW",
        "outputId": "612ce533-c80d-4706-8593-5aaaa40517c3"
      },
      "outputs": [
        {
          "name": "stdout",
          "output_type": "stream",
          "text": [
            "* * * * * \n",
            "* * * * * \n",
            "* * * * * \n",
            "* * * * * \n",
            "* * * * * \n"
          ]
        }
      ],
      "source": [
        "n = 5\n",
        "for i in range(n):\n",
        "  for j in range(n):\n",
        "    print('*',end=' ')\n",
        "  print()\n"
      ]
    },
    {
      "cell_type": "code",
      "execution_count": null,
      "metadata": {
        "colab": {
          "base_uri": "https://localhost:8080/"
        },
        "id": "UWEbwmd0isRi",
        "outputId": "3c3c61d8-0f52-43b1-ec37-bdd2ed70be08"
      },
      "outputs": [
        {
          "name": "stdout",
          "output_type": "stream",
          "text": [
            "1 \n",
            "1 1 \n",
            "1 1 1 \n",
            "1 1 1 1 \n",
            "1 1 1 1 1 \n"
          ]
        }
      ],
      "source": [
        "n = 5\n",
        "for i in range(n):\n",
        "  for j in range(i+1):\n",
        "    print('1',end=' ')\n",
        "  print()"
      ]
    },
    {
      "cell_type": "code",
      "execution_count": null,
      "metadata": {
        "colab": {
          "base_uri": "https://localhost:8080/"
        },
        "id": "5UiX4Oj4jGKc",
        "outputId": "1ce4d87f-a846-478e-da6a-312295aa2fc2"
      },
      "outputs": [
        {
          "name": "stdout",
          "output_type": "stream",
          "text": [
            "1 1 1 1 1 \n",
            "1 1 1 1 \n",
            "1 1 1 \n",
            "1 1 \n",
            "1 \n"
          ]
        }
      ],
      "source": [
        "n = 5\n",
        "for i in range(n):\n",
        "  for j in range(i,n):\n",
        "    print('1',end=' ')\n",
        "  print()"
      ]
    },
    {
      "cell_type": "code",
      "execution_count": null,
      "metadata": {
        "colab": {
          "base_uri": "https://localhost:8080/"
        },
        "id": "vSxZcnXKj828",
        "outputId": "3d7957a5-7009-40d1-f7e5-d1cce0172be0"
      },
      "outputs": [
        {
          "name": "stdout",
          "output_type": "stream",
          "text": [
            "1 \n",
            "2 2 \n",
            "3 3 3 \n",
            "4 4 4 4 \n",
            "5 5 5 5 5 \n"
          ]
        }
      ],
      "source": [
        "n = 5\n",
        "for i in range(n):\n",
        "  for j in range(i+1):\n",
        "    print(i+1,end=' ')\n",
        "  print()"
      ]
    },
    {
      "cell_type": "code",
      "execution_count": null,
      "metadata": {
        "colab": {
          "base_uri": "https://localhost:8080/"
        },
        "id": "5GKfBGsDkPfq",
        "outputId": "7bc55905-b5ce-49e6-ef63-87961db062f6"
      },
      "outputs": [
        {
          "name": "stdout",
          "output_type": "stream",
          "text": [
            "1 \n",
            "2 2 \n",
            "3 3 3 \n",
            "4 4 4 4 \n",
            "5 5 5 5 5 \n"
          ]
        }
      ],
      "source": [
        "n = 5\n",
        "p =1\n",
        "for i in range(n):\n",
        "  for j in range(i+1):\n",
        "    print(p,end=' ')\n",
        "  p+=1\n",
        "  print()"
      ]
    },
    {
      "cell_type": "code",
      "execution_count": null,
      "metadata": {
        "colab": {
          "base_uri": "https://localhost:8080/"
        },
        "id": "gYIxU3dOlDq9",
        "outputId": "97333895-6cdf-4c37-c03e-ef36c4da6adc"
      },
      "outputs": [
        {
          "name": "stdout",
          "output_type": "stream",
          "text": [
            "0 0 0 0 0 \n",
            "1 1 1 1 \n",
            "2 2 2 \n",
            "3 3 \n",
            "4 \n"
          ]
        }
      ],
      "source": [
        "n = 5\n",
        "for i in range(n):\n",
        "  for j in range(i,n):\n",
        "    print(i,end=' ')\n",
        "  print()"
      ]
    },
    {
      "cell_type": "code",
      "execution_count": null,
      "metadata": {
        "colab": {
          "base_uri": "https://localhost:8080/"
        },
        "id": "GGpzkyZXm0JX",
        "outputId": "e46de225-033d-4843-f5f0-58eab100efb9"
      },
      "outputs": [
        {
          "name": "stdout",
          "output_type": "stream",
          "text": [
            "5 \n",
            "4 4 \n",
            "3 3 3 \n",
            "2 2 2 2 \n",
            "1 1 1 1 1 \n"
          ]
        }
      ],
      "source": [
        "n = 5\n",
        "p=5\n",
        "for i in range(n):\n",
        "  for j in range(i+1):\n",
        "    print(p,end=' ')\n",
        "  p-=1\n",
        "  print()"
      ]
    },
    {
      "cell_type": "code",
      "execution_count": null,
      "metadata": {
        "colab": {
          "base_uri": "https://localhost:8080/"
        },
        "id": "PjYz5Mh0nWv_",
        "outputId": "715c4991-c409-493f-c9f3-cd9d9bd961f0"
      },
      "outputs": [
        {
          "name": "stdout",
          "output_type": "stream",
          "text": [
            "0 \n",
            "2 2 \n",
            "4 4 4 \n",
            "6 6 6 6 \n",
            "8 8 8 8 8 \n"
          ]
        }
      ],
      "source": [
        "n=5\n",
        "p=0\n",
        "for i in range(n):\n",
        "  for j in range(i+1):\n",
        "    print(p,end=' ')\n",
        "  p+=2\n",
        "  print()"
      ]
    },
    {
      "cell_type": "code",
      "execution_count": null,
      "metadata": {
        "colab": {
          "base_uri": "https://localhost:8080/"
        },
        "id": "LnORhXzgoKyq",
        "outputId": "9df13741-16a3-4670-a8d7-d2c969da05f4"
      },
      "outputs": [
        {
          "name": "stdout",
          "output_type": "stream",
          "text": [
            "1 \n",
            "2 2 \n",
            "1 1 1 \n",
            "2 2 2 2 \n",
            "1 1 1 1 1 \n"
          ]
        }
      ],
      "source": [
        "n=5\n",
        "for i in range(n):\n",
        "  for j in range(i+1):\n",
        "    if i % 2 == 0:\n",
        "     print(1,end=' ')\n",
        "    else:\n",
        "      print(2,end=' ')\n",
        "  print()"
      ]
    },
    {
      "cell_type": "code",
      "execution_count": null,
      "metadata": {
        "colab": {
          "base_uri": "https://localhost:8080/"
        },
        "id": "9ekuhctGp-nc",
        "outputId": "e041d9e8-0277-49e0-f65b-b5e9e550f412"
      },
      "outputs": [
        {
          "name": "stdout",
          "output_type": "stream",
          "text": [
            "A \n",
            "B B \n",
            "A A A \n",
            "B B B B \n",
            "A A A A A \n"
          ]
        }
      ],
      "source": [
        "n=5\n",
        "for i in range(n):\n",
        "  for j in range(i+1):\n",
        "    if (i % 2 == 0):\n",
        "      print('A',end=' ')\n",
        "    else:\n",
        "      print('B',end=' ')\n",
        "  print()"
      ]
    },
    {
      "cell_type": "code",
      "execution_count": null,
      "metadata": {
        "colab": {
          "base_uri": "https://localhost:8080/"
        },
        "id": "iTmwERs7qZzn",
        "outputId": "a92acd83-2f27-43cc-d2af-94b6aac5f141"
      },
      "outputs": [
        {
          "name": "stdout",
          "output_type": "stream",
          "text": [
            "1 \n",
            "1 2 \n",
            "1 2 3 \n",
            "1 2 3 4 \n",
            "1 2 3 4 5 \n"
          ]
        }
      ],
      "source": [
        "n=5\n",
        "#p=1\n",
        "for i in range(n):\n",
        "  p=1\n",
        "  for j in range(i+1):\n",
        "    print(p,end=' ')\n",
        "    p+=1\n",
        "  print()"
      ]
    },
    {
      "cell_type": "code",
      "execution_count": null,
      "metadata": {
        "colab": {
          "base_uri": "https://localhost:8080/"
        },
        "id": "8JZZt5tMtvqj",
        "outputId": "d4b4e3ac-84a6-4709-a5b8-ceefbcf295e3"
      },
      "outputs": [
        {
          "name": "stdout",
          "output_type": "stream",
          "text": [
            " 12345\n",
            "  1234\n",
            "   123\n",
            "    12\n",
            "     1\n"
          ]
        }
      ],
      "source": [
        "n=5\n",
        "for i in range(n):\n",
        "  p=1\n",
        "  for j in range(i+1):\n",
        "    print('',end=' ')\n",
        "  for j in range(i,n):\n",
        "    print(p,end='')\n",
        "    p+=1\n",
        "  print()"
      ]
    },
    {
      "cell_type": "code",
      "execution_count": null,
      "metadata": {
        "colab": {
          "base_uri": "https://localhost:8080/"
        },
        "id": "SjChAk3ECi6l",
        "outputId": "b08f3ecd-34d6-4b1e-9d31-587a20574c8a"
      },
      "outputs": [
        {
          "name": "stdout",
          "output_type": "stream",
          "text": [
            "5 \n",
            "5 4 \n",
            "5 4 3 \n",
            "5 4 3 2 \n",
            "5 4 3 2 1 \n"
          ]
        }
      ],
      "source": [
        "n=5\n",
        "for i in range(n):\n",
        "  p=5\n",
        "  for j in range(i+1):\n",
        "    print(p,end=' ')\n",
        "    p-=1\n",
        "  print()"
      ]
    },
    {
      "cell_type": "code",
      "execution_count": null,
      "metadata": {
        "colab": {
          "base_uri": "https://localhost:8080/"
        },
        "id": "zDeeO2deDdy5",
        "outputId": "88c34377-f300-4c78-d183-6a143cf906d0"
      },
      "outputs": [
        {
          "name": "stdout",
          "output_type": "stream",
          "text": [
            "  5 4 3 2 1 \n",
            "    5 4 3 2 \n",
            "      5 4 3 \n",
            "        5 4 \n",
            "          5 \n"
          ]
        }
      ],
      "source": [
        "n=5\n",
        "for i in range(n): # This loop handle number of rows\n",
        "  for j in range(i+1):  # This loop handle increasing blank spaces before each row\n",
        "    print(' ',end=' ')\n",
        "  p=5                  # This variable store first number place here bcos from this loop only we have start printed numbers\n",
        "  for j in range(i,n): # This is internal loop handle columns and print number in decreasing manner\n",
        "    print(p,end=' ')\n",
        "    p-=1\n",
        "  print()"
      ]
    },
    {
      "cell_type": "code",
      "execution_count": null,
      "metadata": {
        "colab": {
          "base_uri": "https://localhost:8080/"
        },
        "id": "PG-8QrJ9FuYG",
        "outputId": "adcbc43c-6290-4286-e7a7-9c87c9a9ea44"
      },
      "outputs": [
        {
          "name": "stdout",
          "output_type": "stream",
          "text": [
            "* * * * * * \n",
            "* * * * * * * \n",
            "* * * * * * * * \n",
            "* * * * * * * * * \n",
            "* * * * * * * * * * \n"
          ]
        }
      ],
      "source": [
        "n=5\n",
        "for i in range(n):\n",
        "  for j in range(i,n):\n",
        "    print('*',end=' ')\n",
        "  for j in range(i):\n",
        "    print('*',end=' ')\n",
        "  for j in range(i+1):\n",
        "    print('*',end=' ')\n",
        "  print()"
      ]
    },
    {
      "cell_type": "code",
      "execution_count": null,
      "metadata": {
        "colab": {
          "base_uri": "https://localhost:8080/"
        },
        "id": "7fuPe6sGGWkh",
        "outputId": "0486b88c-09aa-4fa4-d18c-26c6b52f8bd5"
      },
      "outputs": [
        {
          "name": "stdout",
          "output_type": "stream",
          "text": [
            "          1 \n",
            "        1 2 1 \n",
            "      1 2 3 2 1 \n",
            "    1 2 3 4 3 2 1 \n",
            "  1 2 3 4 5 4 3 2 1 \n"
          ]
        }
      ],
      "source": [
        "n=5\n",
        "for i in range(n):\n",
        "  for j in range(i,n):\n",
        "    print(' ',end=' ')\n",
        "  p=1\n",
        "  for j in range(i):\n",
        "    print(p,end=' ')\n",
        "    p+=1\n",
        "  for j in range(i+1):\n",
        "    print(p,end=' ')\n",
        "    p-=1\n",
        "  print()\n"
      ]
    },
    {
      "cell_type": "code",
      "execution_count": null,
      "metadata": {
        "colab": {
          "base_uri": "https://localhost:8080/"
        },
        "id": "j0c-fySDKR5R",
        "outputId": "2a1c02db-09b2-4f56-981a-f2716d9482eb"
      },
      "outputs": [
        {
          "name": "stdout",
          "output_type": "stream",
          "text": [
            "1 \n",
            "2 3 \n",
            "4 5 6 \n",
            "7 8 9 10 \n"
          ]
        }
      ],
      "source": [
        "n=4\n",
        "p=1\n",
        "for i in range(n):\n",
        "  for j in range(i+1):\n",
        "    print(p,end=' ')\n",
        "    p+=1\n",
        "  print()"
      ]
    },
    {
      "cell_type": "code",
      "execution_count": null,
      "metadata": {
        "colab": {
          "base_uri": "https://localhost:8080/"
        },
        "id": "VaeIuXtdOBD9",
        "outputId": "22313e0e-5b70-429f-8911-f668e0acc53a"
      },
      "outputs": [
        {
          "name": "stdout",
          "output_type": "stream",
          "text": [
            "* * * * * \n",
            "* * * * * \n",
            "* * * * * \n",
            "* * * * * \n",
            "* * * * * \n"
          ]
        }
      ],
      "source": [
        "n=5\n",
        "for i in range(n):\n",
        "  for j in range(n):\n",
        "    print('*',end=' ')\n",
        "  print()"
      ]
    },
    {
      "cell_type": "code",
      "execution_count": null,
      "metadata": {
        "colab": {
          "base_uri": "https://localhost:8080/"
        },
        "id": "hCPhMRFcTGg6",
        "outputId": "739382c1-afec-4c1b-9d94-0f36a3c54fdc"
      },
      "outputs": [
        {
          "name": "stdout",
          "output_type": "stream",
          "text": [
            "* \n",
            "* * \n",
            "* * * \n",
            "* * * * \n",
            "* * * * * \n"
          ]
        }
      ],
      "source": [
        "n=5\n",
        "for i in range(n):\n",
        "  for j in range(i+1):\n",
        "    print('*',end=' ')\n",
        "  print()"
      ]
    },
    {
      "cell_type": "code",
      "execution_count": null,
      "metadata": {
        "colab": {
          "base_uri": "https://localhost:8080/"
        },
        "id": "VFHfCvG_TicZ",
        "outputId": "5c9a9a59-b343-41ee-9efa-bdfec5bf8b7e"
      },
      "outputs": [
        {
          "name": "stdout",
          "output_type": "stream",
          "text": [
            "* * * * * \n",
            "* * * * \n",
            "* * * \n",
            "* * \n",
            "* \n"
          ]
        }
      ],
      "source": [
        "n=5\n",
        "for i in range(n):\n",
        "  for j in range(i,n):\n",
        "    print('*',end=' ')\n",
        "  print()"
      ]
    },
    {
      "cell_type": "code",
      "execution_count": null,
      "metadata": {
        "colab": {
          "base_uri": "https://localhost:8080/"
        },
        "id": "3r_20V9lV5XH",
        "outputId": "f00fc8db-d7e8-4bc8-cb30-e59362286d54"
      },
      "outputs": [
        {
          "name": "stdout",
          "output_type": "stream",
          "text": [
            "          * \n",
            "        * * \n",
            "      * * * \n",
            "    * * * * \n",
            "  * * * * * \n"
          ]
        }
      ],
      "source": [
        "n=5\n",
        "for i in range(n):\n",
        "  for j in range(i,n):\n",
        "    print(' ',end=' ')\n",
        "  for j in range(i+1):\n",
        "    print('*',end=' ')\n",
        "  print()"
      ]
    },
    {
      "cell_type": "code",
      "execution_count": null,
      "metadata": {
        "colab": {
          "base_uri": "https://localhost:8080/"
        },
        "id": "ep1F_bVHXDVf",
        "outputId": "a77d0d5e-7186-4ad4-d1a8-5534df8b8652"
      },
      "outputs": [
        {
          "name": "stdout",
          "output_type": "stream",
          "text": [
            "  * * * * * \n",
            "    * * * * \n",
            "      * * * \n",
            "        * * \n",
            "          * \n"
          ]
        }
      ],
      "source": [
        "n=5\n",
        "for i in range(n):\n",
        "  for j in range(i+1):\n",
        "    print(' ',end=' ')\n",
        "  for j in range(i,n):\n",
        "    print('*',end=' ')\n",
        "  print()"
      ]
    },
    {
      "cell_type": "code",
      "execution_count": null,
      "metadata": {
        "colab": {
          "base_uri": "https://localhost:8080/"
        },
        "id": "5czjgUCJX9LP",
        "outputId": "18b112ec-546b-4e6e-803d-d06f3d894105"
      },
      "outputs": [
        {
          "name": "stdout",
          "output_type": "stream",
          "text": [
            "          * \n",
            "        * * * \n",
            "      * * * * * \n",
            "    * * * * * * * \n",
            "  * * * * * * * * * \n"
          ]
        }
      ],
      "source": [
        "n=5\n",
        "for i in range(n):\n",
        "  for j in range(i,n):\n",
        "    print(' ',end=' ')\n",
        "  for j in range(i):\n",
        "    print('*',end=' ')\n",
        "  for j in range(i+1):\n",
        "    print('*',end=' ')\n",
        "  print()"
      ]
    },
    {
      "cell_type": "code",
      "execution_count": null,
      "metadata": {
        "colab": {
          "base_uri": "https://localhost:8080/"
        },
        "id": "c8mZSalpZlPt",
        "outputId": "0e393031-abe1-42d8-fbb1-31dda7320ad5"
      },
      "outputs": [
        {
          "name": "stdout",
          "output_type": "stream",
          "text": [
            "  * * * * * * * * * \n",
            "    * * * * * * * \n",
            "      * * * * * \n",
            "        * * * \n",
            "          * \n"
          ]
        }
      ],
      "source": [
        "n=5\n",
        "for i in range(n):\n",
        "  for j in range(i+1):\n",
        "    print(' ',end=' ')\n",
        "  for j in range(i,n-1):\n",
        "    print('*',end=' ')\n",
        "  for j in range(i,n):\n",
        "    print('*',end=' ')\n",
        "  print()"
      ]
    },
    {
      "cell_type": "code",
      "execution_count": null,
      "metadata": {
        "colab": {
          "base_uri": "https://localhost:8080/"
        },
        "id": "SrXnquFsay21",
        "outputId": "b95cdf0d-3f4d-44d6-9ed0-5ecba6654576"
      },
      "outputs": [
        {
          "name": "stdout",
          "output_type": "stream",
          "text": [
            "          * \n",
            "        * * * \n",
            "      * * * * * \n",
            "    * * * * * * * \n",
            "  * * * * * * * * * \n",
            "    * * * * * * * \n",
            "      * * * * * \n",
            "        * * * \n",
            "          * \n"
          ]
        }
      ],
      "source": [
        "n=5\n",
        "for i in range(n-1):\n",
        "  for j in range(i,n):\n",
        "    print(' ',end=' ')\n",
        "  for j in range(i):\n",
        "    print('*',end=' ')\n",
        "  for j in range(i+1):\n",
        "    print('*',end=' ')\n",
        "  print()\n",
        "for i in range(n):\n",
        "  for j in range(i+1):\n",
        "    print(' ',end=' ')\n",
        "  for j in range(i,n):\n",
        "    print('*',end=' ')\n",
        "  for j in range(i,n-1):\n",
        "    print('*',end=' ')\n",
        "  print()"
      ]
    },
    {
      "cell_type": "code",
      "execution_count": null,
      "metadata": {
        "colab": {
          "base_uri": "https://localhost:8080/"
        },
        "id": "qBGONepglfUx",
        "outputId": "712b5866-219a-4451-982c-3efeb4c4302a"
      },
      "outputs": [
        {
          "name": "stdout",
          "output_type": "stream",
          "text": [
            "1 \n",
            "1 1 \n",
            "1 1 1 \n",
            "1 1 1 1 \n",
            "1 1 1 1 1 \n"
          ]
        }
      ],
      "source": [
        "n=5\n",
        "for i in range(n):\n",
        "  for j in range(i+1):\n",
        "    print('1',end=' ')\n",
        "  print()"
      ]
    },
    {
      "cell_type": "code",
      "execution_count": null,
      "metadata": {
        "colab": {
          "base_uri": "https://localhost:8080/"
        },
        "id": "aeqP6MFbna0f",
        "outputId": "67359244-b4fa-4cdf-bbe2-94fdafab0322"
      },
      "outputs": [
        {
          "name": "stdout",
          "output_type": "stream",
          "text": [
            "1 \n",
            "2 2 \n",
            "3 3 3 \n",
            "4 4 4 4 \n",
            "5 5 5 5 5 \n"
          ]
        }
      ],
      "source": [
        "n=5\n",
        "for i in range(n):\n",
        "  for j in range(i+1):\n",
        "    print(i+1,end=' ')\n",
        "  print()"
      ]
    },
    {
      "cell_type": "code",
      "execution_count": null,
      "metadata": {
        "colab": {
          "base_uri": "https://localhost:8080/"
        },
        "id": "1H00EYkQonFY",
        "outputId": "3870632e-524d-4892-f264-61eedafbf0fc"
      },
      "outputs": [
        {
          "name": "stdout",
          "output_type": "stream",
          "text": [
            "1 \n",
            "2 2 \n",
            "3 3 3 \n",
            "4 4 4 4 \n",
            "5 5 5 5 5 \n"
          ]
        }
      ],
      "source": [
        "n=5\n",
        "p=1\n",
        "for i in range(n):\n",
        "  for j in range(i+1):\n",
        "    print(p,end=' ')\n",
        "  p+=1\n",
        "  print()"
      ]
    },
    {
      "cell_type": "code",
      "execution_count": null,
      "metadata": {
        "colab": {
          "base_uri": "https://localhost:8080/"
        },
        "id": "yNBlLHappQh1",
        "outputId": "75f88f79-3995-4efe-ae6b-a6820d3a17e8"
      },
      "outputs": [
        {
          "name": "stdout",
          "output_type": "stream",
          "text": [
            "5 \n",
            "4 4 \n",
            "3 3 3 \n",
            "2 2 2 2 \n",
            "1 1 1 1 1 \n"
          ]
        }
      ],
      "source": [
        "n=5\n",
        "p=5\n",
        "for i in range(n):\n",
        "  for j in range(i+1):\n",
        "    print(p,end=' ')\n",
        "  p-=1\n",
        "  print()"
      ]
    },
    {
      "cell_type": "code",
      "execution_count": null,
      "metadata": {
        "colab": {
          "base_uri": "https://localhost:8080/"
        },
        "id": "JXSykpgJpqzu",
        "outputId": "5f5e757f-4e99-4c26-fb3c-384379ba7ea6"
      },
      "outputs": [
        {
          "name": "stdout",
          "output_type": "stream",
          "text": [
            "0 \n",
            "2 2 \n",
            "4 4 4 \n",
            "6 6 6 6 \n",
            "8 8 8 8 8 \n"
          ]
        }
      ],
      "source": [
        "n=5\n",
        "p=0\n",
        "for i in range(n):\n",
        "  for j in range(i+1):\n",
        "    print(p,end=' ')\n",
        "  p+=2\n",
        "  print()"
      ]
    },
    {
      "cell_type": "code",
      "execution_count": null,
      "metadata": {
        "colab": {
          "base_uri": "https://localhost:8080/"
        },
        "id": "tUMVbW9wqQWd",
        "outputId": "a61ed380-5a02-4793-f460-0f5a7befa337"
      },
      "outputs": [
        {
          "name": "stdout",
          "output_type": "stream",
          "text": [
            "1 \n",
            "2 2 \n",
            "1 1 1 \n",
            "2 2 2 2 \n",
            "1 1 1 1 1 \n"
          ]
        }
      ],
      "source": [
        "n=5\n",
        "for i in range(n):\n",
        "  for j in range(i+1):\n",
        "    if (i % 2 == 0):\n",
        "      print('1',end=' ')\n",
        "    else:\n",
        "      print('2',end=' ')\n",
        "  print()"
      ]
    },
    {
      "cell_type": "code",
      "execution_count": null,
      "metadata": {
        "colab": {
          "base_uri": "https://localhost:8080/"
        },
        "id": "kw_3PGidx8NQ",
        "outputId": "d10a665c-42bb-4927-9f87-1ee9627579ea"
      },
      "outputs": [
        {
          "name": "stdout",
          "output_type": "stream",
          "text": [
            "1 \n",
            "1 2 \n",
            "1 2 3 \n",
            "1 2 3 4 \n",
            "1 2 3 4 5 \n"
          ]
        }
      ],
      "source": [
        "n=5\n",
        "for i in range(n):\n",
        "  p=1\n",
        "  for j in range(i+1):\n",
        "    print(p,end=' ')\n",
        "    p+=1\n",
        "  print()"
      ]
    },
    {
      "cell_type": "code",
      "execution_count": null,
      "metadata": {
        "colab": {
          "base_uri": "https://localhost:8080/"
        },
        "id": "i_A87uyOWvvL",
        "outputId": "5ad02a59-81bf-4c31-cd24-830525197502"
      },
      "outputs": [
        {
          "name": "stdout",
          "output_type": "stream",
          "text": [
            "* \n",
            "* * \n",
            "* * * \n",
            "* * * * \n",
            "* * * * * \n"
          ]
        }
      ],
      "source": [
        "n=5\n",
        "for i in range(n):\n",
        "  for j in range(i+1):\n",
        "    print('*',end=' ')\n",
        "  print()"
      ]
    },
    {
      "cell_type": "code",
      "execution_count": null,
      "metadata": {
        "colab": {
          "base_uri": "https://localhost:8080/"
        },
        "id": "zspchHuNYcbu",
        "outputId": "950422d4-1c46-4c20-83ad-48e1ccb60524"
      },
      "outputs": [
        {
          "name": "stdout",
          "output_type": "stream",
          "text": [
            "A \n",
            "A B \n",
            "A B C \n",
            "A B C D \n",
            "A B C D E \n"
          ]
        }
      ],
      "source": [
        "n=5\n",
        "#num=65\n",
        "for i in range(n):\n",
        "  num=65\n",
        "  for j in range(i+1):\n",
        "    ch=chr(num)\n",
        "    print(ch,end=' ')\n",
        "    num=num+1\n",
        "  print()"
      ]
    },
    {
      "cell_type": "code",
      "execution_count": null,
      "metadata": {
        "colab": {
          "base_uri": "https://localhost:8080/"
        },
        "id": "wJWQxB_maOdN",
        "outputId": "140ebd08-8ac3-417c-96a7-5f054a61aff8"
      },
      "outputs": [
        {
          "name": "stdout",
          "output_type": "stream",
          "text": [
            "1 2 3 4 5 \n",
            "1 2 3 4 \n",
            "1 2 3 \n",
            "1 2 \n",
            "1 \n"
          ]
        }
      ],
      "source": [
        "n=5\n",
        "for i in range(n,0,-1):\n",
        "  num=1\n",
        "  for j in range(i):\n",
        "    print(num,end=' ')\n",
        "    num=num+1\n",
        "  print()"
      ]
    },
    {
      "cell_type": "code",
      "execution_count": null,
      "metadata": {
        "colab": {
          "base_uri": "https://localhost:8080/"
        },
        "id": "Xr3bq1z1b5Kb",
        "outputId": "28d644a1-af46-4646-91dd-2b752f970686"
      },
      "outputs": [
        {
          "name": "stdout",
          "output_type": "stream",
          "text": [
            "1\n",
            "2\n",
            "3\n",
            "4\n",
            "5\n"
          ]
        }
      ],
      "source": [
        "for i in range(1,6):\n",
        "  print(i)"
      ]
    },
    {
      "cell_type": "code",
      "execution_count": null,
      "metadata": {
        "colab": {
          "base_uri": "https://localhost:8080/"
        },
        "id": "sll6py6ecpI5",
        "outputId": "ef9f4dcb-5f3b-4ac9-8068-a0d5cfd3a481"
      },
      "outputs": [
        {
          "name": "stdout",
          "output_type": "stream",
          "text": [
            "1 2 3 4 5 "
          ]
        }
      ],
      "source": [
        "for i in range(1,6):\n",
        "  print(i,end=' ')"
      ]
    },
    {
      "cell_type": "code",
      "execution_count": null,
      "metadata": {
        "colab": {
          "base_uri": "https://localhost:8080/"
        },
        "id": "GXAy-HSxcvZn",
        "outputId": "7b8dde86-2013-4b40-c277-e7872a99a157"
      },
      "outputs": [
        {
          "name": "stdout",
          "output_type": "stream",
          "text": [
            "1 4 9 16 25 "
          ]
        }
      ],
      "source": [
        "for i in range(1,6):\n",
        "  print(i*i,end=' ')"
      ]
    },
    {
      "cell_type": "code",
      "execution_count": null,
      "metadata": {
        "colab": {
          "base_uri": "https://localhost:8080/"
        },
        "id": "87QCt1lPcxat",
        "outputId": "908046dd-3383-4bfd-ca31-0f3ccbd543ce"
      },
      "outputs": [
        {
          "name": "stdout",
          "output_type": "stream",
          "text": [
            "2 4 6 8 10 "
          ]
        }
      ],
      "source": [
        "for i in range(1,11):\n",
        "  if i % 2 == 0:\n",
        "    print(i,end=' ')"
      ]
    },
    {
      "cell_type": "code",
      "execution_count": null,
      "metadata": {
        "colab": {
          "base_uri": "https://localhost:8080/"
        },
        "id": "YKHaiNUDd0aR",
        "outputId": "4d8f5710-7eab-48bc-a9d2-60d82e9de2be"
      },
      "outputs": [
        {
          "name": "stdout",
          "output_type": "stream",
          "text": [
            "55\n"
          ]
        }
      ],
      "source": [
        "total=0\n",
        "for i in range(1,11):\n",
        "  total+=i\n",
        "print(total)"
      ]
    },
    {
      "cell_type": "code",
      "execution_count": null,
      "metadata": {
        "colab": {
          "base_uri": "https://localhost:8080/"
        },
        "id": "93tEEsDWfZDH",
        "outputId": "e87d3707-4f5b-44ae-cf99-d37a9eab9c0c"
      },
      "outputs": [
        {
          "name": "stdout",
          "output_type": "stream",
          "text": [
            "nohtyP\n"
          ]
        }
      ],
      "source": [
        "name='Python'\n",
        "new_name=name[::-1]\n",
        "print(new_name)"
      ]
    },
    {
      "cell_type": "code",
      "execution_count": null,
      "metadata": {
        "colab": {
          "base_uri": "https://localhost:8080/"
        },
        "id": "azwCjpspgG0b",
        "outputId": "f677e1d1-926a-4f6f-d11e-35a7cec18735"
      },
      "outputs": [
        {
          "name": "stdout",
          "output_type": "stream",
          "text": [
            "n o h t y P "
          ]
        }
      ],
      "source": [
        "word='Python'\n",
        "for i in range(len(word)-1,-1,-1):\n",
        "  print(word[i],end=' ')"
      ]
    },
    {
      "cell_type": "code",
      "execution_count": null,
      "metadata": {
        "colab": {
          "base_uri": "https://localhost:8080/"
        },
        "id": "DD7ecVvZgnu8",
        "outputId": "a79e4561-e5b3-4965-fe5f-d412911ec163"
      },
      "outputs": [
        {
          "name": "stdout",
          "output_type": "stream",
          "text": [
            "Enter name: manish\n",
            "2\n"
          ]
        }
      ],
      "source": [
        "vowels='aeiouAEIOU'\n",
        "count=0\n",
        "name=input('Enter name: ')\n",
        "for i in name:\n",
        "  if i in vowels:\n",
        "    count+=1\n",
        "print(count)"
      ]
    },
    {
      "cell_type": "code",
      "execution_count": null,
      "metadata": {
        "colab": {
          "base_uri": "https://localhost:8080/"
        },
        "id": "TBBMdHYjicQb",
        "outputId": "c98ddfac-72b9-4673-bf50-a82e6b282366"
      },
      "outputs": [
        {
          "name": "stdout",
          "output_type": "stream",
          "text": [
            "0 1 1 2 3 5 8 13 21 34 "
          ]
        }
      ],
      "source": [
        "#Fibbonacci Sieries\n",
        "a=0\n",
        "b=1\n",
        "print(a,b,end=' ')\n",
        "for i in range(8):\n",
        "  next_term=a+b\n",
        "  print(next_term,end=' ')\n",
        "  a,b=b,next_term"
      ]
    },
    {
      "cell_type": "code",
      "execution_count": null,
      "metadata": {
        "colab": {
          "base_uri": "https://localhost:8080/"
        },
        "id": "bT1mouUJ4SXh",
        "outputId": "10ffbad7-514d-4130-a686-e6781d3388c6"
      },
      "outputs": [
        {
          "name": "stdout",
          "output_type": "stream",
          "text": [
            "0 1 1 2 3 5 8 13 21 34 "
          ]
        }
      ],
      "source": [
        "a=0\n",
        "b=1\n",
        "print(a,b,end=' ')\n",
        "for i in range(8):\n",
        "  next_term=a+b\n",
        "  print(next_term,end=' ')\n",
        "  a=b\n",
        "  b=next_term"
      ]
    },
    {
      "cell_type": "code",
      "execution_count": null,
      "metadata": {
        "colab": {
          "base_uri": "https://localhost:8080/"
        },
        "id": "AeVuD2Fs47kQ",
        "outputId": "74d8da62-d764-4824-e4d0-d50f1c9c6f55"
      },
      "outputs": [
        {
          "output_type": "stream",
          "name": "stdout",
          "text": [
            "120\n"
          ]
        }
      ],
      "source": [
        "n=5\n",
        "product=1\n",
        "for i in range(1,n+1):\n",
        "  product*=i\n",
        "print(product)"
      ]
    },
    {
      "cell_type": "code",
      "execution_count": null,
      "metadata": {
        "colab": {
          "base_uri": "https://localhost:8080/"
        },
        "id": "BrVA-G6rK2H3",
        "outputId": "7656af26-677c-41d1-af8a-e2abdd8807f5"
      },
      "outputs": [
        {
          "name": "stdout",
          "output_type": "stream",
          "text": [
            "7 is prime number\n"
          ]
        }
      ],
      "source": [
        "#Prime Number\n",
        "num=7\n",
        "is_prime=True\n",
        "for i in range(2,int(num**0.5)+1):\n",
        "  if num % i == 0:\n",
        "    is_prime=False\n",
        "    break\n",
        "\n",
        "if is_prime and num>1:\n",
        "  print(num,'is prime number')\n",
        "else:\n",
        "  print(num,'is not a prime number')"
      ]
    },
    {
      "cell_type": "code",
      "execution_count": null,
      "metadata": {
        "colab": {
          "base_uri": "https://localhost:8080/"
        },
        "id": "2UMIh-FxLxVo",
        "outputId": "721db367-4fa8-40a2-86a5-27bf559cf7b8"
      },
      "outputs": [
        {
          "name": "stdout",
          "output_type": "stream",
          "text": [
            "m: 1\n",
            "a: 1\n",
            "n: 1\n",
            "i: 1\n",
            "s: 1\n",
            "h: 1\n"
          ]
        }
      ],
      "source": [
        "word='manish'\n",
        "char_count={}\n",
        "\n",
        "for char in word:\n",
        "  if char in char_count:\n",
        "    char_count[char]+=1\n",
        "  else:\n",
        "    char_count[char]=1\n",
        "\n",
        "# print(char_count)\n",
        "for char,count in char_count.items():\n",
        "  print(char+':',count)"
      ]
    },
    {
      "cell_type": "code",
      "execution_count": null,
      "metadata": {
        "colab": {
          "base_uri": "https://localhost:8080/"
        },
        "id": "L6z5LeOvN80F",
        "outputId": "a0bdc150-ab8b-424f-f0f6-9a26538d9548"
      },
      "outputs": [
        {
          "name": "stdout",
          "output_type": "stream",
          "text": [
            "10 11 12 13 14 15 "
          ]
        }
      ],
      "source": [
        "for i in range(10,16):\n",
        "  print(i,end=' ')"
      ]
    },
    {
      "cell_type": "code",
      "execution_count": null,
      "metadata": {
        "colab": {
          "base_uri": "https://localhost:8080/"
        },
        "id": "n_S9eZEXVyki",
        "outputId": "d873d9e1-f576-4f6c-a758-04b6d2ff0296"
      },
      "outputs": [
        {
          "output_type": "stream",
          "name": "stdout",
          "text": [
            "10 11 12 13 14 15 "
          ]
        }
      ],
      "source": [
        "num=10\n",
        "while num<=15:\n",
        "  print(num,end=' ')\n",
        "  num+=1"
      ]
    },
    {
      "cell_type": "code",
      "source": [
        "number=1\n",
        "while number <= 5:\n",
        "  print(number ** 3,end=' ')\n",
        "  number += 1"
      ],
      "metadata": {
        "colab": {
          "base_uri": "https://localhost:8080/"
        },
        "id": "uguHn44HYgI5",
        "outputId": "815506ea-e598-4216-b55a-8dbc2b3c86f0"
      },
      "execution_count": null,
      "outputs": [
        {
          "output_type": "stream",
          "name": "stdout",
          "text": [
            "1 8 27 64 125 "
          ]
        }
      ]
    },
    {
      "cell_type": "code",
      "source": [
        "number =1\n",
        "while number <= 10:\n",
        "  if number % 2 != 0:\n",
        "    print(number,end=' ')\n",
        "  number+=1\n"
      ],
      "metadata": {
        "colab": {
          "base_uri": "https://localhost:8080/"
        },
        "id": "Ws92YbZGY5lC",
        "outputId": "3a319450-d260-46ca-c225-67245beb4eab"
      },
      "execution_count": null,
      "outputs": [
        {
          "output_type": "stream",
          "name": "stdout",
          "text": [
            "1 3 5 7 9 "
          ]
        }
      ]
    },
    {
      "cell_type": "code",
      "source": [
        "number=1\n",
        "product=1\n",
        "while number <= 5:\n",
        "  product*=number\n",
        "  number+=1\n",
        "print(product)\n"
      ],
      "metadata": {
        "colab": {
          "base_uri": "https://localhost:8080/"
        },
        "id": "4LIQIrGnZwSN",
        "outputId": "92690786-3780-4a00-ba11-db0d196452a5"
      },
      "execution_count": null,
      "outputs": [
        {
          "output_type": "stream",
          "name": "stdout",
          "text": [
            "120\n"
          ]
        }
      ]
    },
    {
      "cell_type": "code",
      "metadata": {
        "colab": {
          "base_uri": "https://localhost:8080/"
        },
        "id": "6889a6cb",
        "outputId": "e2a045ca-34f3-4c8b-cefd-15d96d72cd09"
      },
      "source": [
        "sentence = 'Hello World'\n",
        "words = sentence.split()\n",
        "reversed_words = [word[::-1] for word in words]\n",
        "reversed_sentence = ' '.join(reversed_words)\n",
        "print(reversed_sentence)"
      ],
      "execution_count": null,
      "outputs": [
        {
          "output_type": "stream",
          "name": "stdout",
          "text": [
            "olleH dlroW\n"
          ]
        }
      ]
    },
    {
      "cell_type": "code",
      "source": [
        "sentence='Hello World'\n",
        "words=sentence.split()\n",
        "for word in words:\n",
        "  i=len(word)-1\n",
        "  while i >= 0:\n",
        "    print(word[i],end=' ')\n",
        "    i-=1\n",
        "  print(end=' ')"
      ],
      "metadata": {
        "colab": {
          "base_uri": "https://localhost:8080/"
        },
        "id": "L-_oU-Kdc0eC",
        "outputId": "314c9ee1-9662-4324-e13f-104a1d1b8c1f"
      },
      "execution_count": null,
      "outputs": [
        {
          "output_type": "stream",
          "name": "stdout",
          "text": [
            "o l l e H  d l r o W  "
          ]
        }
      ]
    },
    {
      "cell_type": "code",
      "source": [
        "word='learning'\n",
        "count=0\n",
        "index=0\n",
        "vowels='aeiou'\n",
        "while index < len(word):\n",
        "  if word[index].lower() not in vowels and word[index].isalpha():\n",
        "    count+=1\n",
        "  index+=1\n",
        "print(count)"
      ],
      "metadata": {
        "colab": {
          "base_uri": "https://localhost:8080/"
        },
        "id": "nzxT6BIGh6Ib",
        "outputId": "d3986f81-bea5-4daa-853d-ad76b9dda423"
      },
      "execution_count": null,
      "outputs": [
        {
          "output_type": "stream",
          "name": "stdout",
          "text": [
            "5\n"
          ]
        }
      ]
    },
    {
      "cell_type": "code",
      "source": [
        "multiple=3\n",
        "count=1\n",
        "while count<=5:\n",
        "  print(multiple,end=' ')\n",
        "  multiple+=3\n",
        "  count+=1"
      ],
      "metadata": {
        "colab": {
          "base_uri": "https://localhost:8080/"
        },
        "id": "JOekro6TjYXl",
        "outputId": "d8c614ad-ec36-424d-aff5-9b51ff42ff6e"
      },
      "execution_count": null,
      "outputs": [
        {
          "output_type": "stream",
          "name": "stdout",
          "text": [
            "3 6 9 12 15 "
          ]
        }
      ]
    },
    {
      "cell_type": "code",
      "source": [
        "num=int(input())\n",
        "i=1\n",
        "is_perfect_square=False\n",
        "while i*i <= num:\n",
        "  if i*i == num:\n",
        "    is_perfect_square=True\n",
        "    break\n",
        "  i+=1\n",
        "if is_perfect_square:\n",
        "  print(num,'is perfect square')"
      ],
      "metadata": {
        "colab": {
          "base_uri": "https://localhost:8080/"
        },
        "id": "ezYfWqFAl3hQ",
        "outputId": "70b50418-d101-4e30-9442-8018f26021af"
      },
      "execution_count": null,
      "outputs": [
        {
          "output_type": "stream",
          "name": "stdout",
          "text": [
            "16\n",
            "16 is perfect square\n"
          ]
        }
      ]
    },
    {
      "cell_type": "code",
      "source": [
        "string=input()\n",
        "char_to_count=input()\n",
        "count=0\n",
        "index=0\n",
        "while index < len(string):\n",
        "  if string[index] == char_to_count:\n",
        "    count+=1\n",
        "  index+=1\n",
        "print(count)\n"
      ],
      "metadata": {
        "colab": {
          "base_uri": "https://localhost:8080/"
        },
        "id": "PTrf9ctJmghY",
        "outputId": "f7dc126e-cb4b-4ba5-8011-ecb8df5ca6b9"
      },
      "execution_count": null,
      "outputs": [
        {
          "output_type": "stream",
          "name": "stdout",
          "text": [
            "success\n",
            "c\n",
            "2\n"
          ]
        }
      ]
    },
    {
      "cell_type": "code",
      "source": [
        "for i in range(10,16):\n",
        "  print(i,end=' ')"
      ],
      "metadata": {
        "colab": {
          "base_uri": "https://localhost:8080/"
        },
        "id": "sKCgIFROIWUr",
        "outputId": "70623273-98fa-4758-8bb3-cba3390bcfab"
      },
      "execution_count": 2,
      "outputs": [
        {
          "output_type": "stream",
          "name": "stdout",
          "text": [
            "10 11 12 13 14 15 "
          ]
        }
      ]
    },
    {
      "cell_type": "code",
      "source": [
        "num=10\n",
        "while num <= 15:\n",
        "  print(num,end=' ')\n",
        "  num+=1"
      ],
      "metadata": {
        "colab": {
          "base_uri": "https://localhost:8080/"
        },
        "id": "9XN14vDJIsvl",
        "outputId": "2b86ae8c-f6fc-4987-d4aa-bbbbb5f85579"
      },
      "execution_count": 3,
      "outputs": [
        {
          "output_type": "stream",
          "name": "stdout",
          "text": [
            "10 11 12 13 14 15 "
          ]
        }
      ]
    },
    {
      "cell_type": "code",
      "source": [
        "for i in range(1,6):\n",
        "  print(i**3,end=' ')"
      ],
      "metadata": {
        "colab": {
          "base_uri": "https://localhost:8080/"
        },
        "id": "fGhYTw8AJij0",
        "outputId": "5adeb730-6943-41da-b92c-855b55a9070a"
      },
      "execution_count": 4,
      "outputs": [
        {
          "output_type": "stream",
          "name": "stdout",
          "text": [
            "1 8 27 64 125 "
          ]
        }
      ]
    },
    {
      "cell_type": "code",
      "source": [
        "number = 1\n",
        "while number <= 5:\n",
        "  print(number ** 3,end=' ')\n",
        "  number+=1"
      ],
      "metadata": {
        "colab": {
          "base_uri": "https://localhost:8080/"
        },
        "id": "5aHiaxleJsch",
        "outputId": "482da5e0-d50b-4a4c-b677-e407f0db4ec3"
      },
      "execution_count": 5,
      "outputs": [
        {
          "output_type": "stream",
          "name": "stdout",
          "text": [
            "1 8 27 64 125 "
          ]
        }
      ]
    },
    {
      "cell_type": "code",
      "source": [
        "for i in range(1,11):\n",
        "  if i % 2 != 0:\n",
        "    print(i,end=' ')"
      ],
      "metadata": {
        "colab": {
          "base_uri": "https://localhost:8080/"
        },
        "id": "ww46xqN9J7q5",
        "outputId": "42a13ed7-ee6e-426b-d3da-782ec6d38206"
      },
      "execution_count": 7,
      "outputs": [
        {
          "output_type": "stream",
          "name": "stdout",
          "text": [
            "1 3 5 7 9 "
          ]
        }
      ]
    },
    {
      "cell_type": "code",
      "source": [
        "number=1\n",
        "while number <= 10:\n",
        "  if number % 2 != 0:\n",
        "    print(number,end=' ')\n",
        "  number+=1"
      ],
      "metadata": {
        "colab": {
          "base_uri": "https://localhost:8080/"
        },
        "id": "AFWkm94iKY0Y",
        "outputId": "95422217-a19f-41ce-e2bb-315b69941c42"
      },
      "execution_count": 8,
      "outputs": [
        {
          "output_type": "stream",
          "name": "stdout",
          "text": [
            "1 3 5 7 9 "
          ]
        }
      ]
    },
    {
      "cell_type": "code",
      "source": [
        "product=1\n",
        "for i in range(1,6):\n",
        "  product*=i\n",
        "print(product)"
      ],
      "metadata": {
        "colab": {
          "base_uri": "https://localhost:8080/"
        },
        "id": "1VJkvX52LCUI",
        "outputId": "a398c397-196e-4f43-83c7-6bb5f07c183a"
      },
      "execution_count": 14,
      "outputs": [
        {
          "output_type": "stream",
          "name": "stdout",
          "text": [
            "120\n"
          ]
        }
      ]
    },
    {
      "cell_type": "code",
      "source": [
        "number=1\n",
        "product=1\n",
        "while number <= 5:\n",
        "  product*=number\n",
        "  number+=1\n",
        "print(product)"
      ],
      "metadata": {
        "colab": {
          "base_uri": "https://localhost:8080/"
        },
        "id": "Q8qwcZDnMN_A",
        "outputId": "7964656c-4d66-4ea2-fdd3-381e35403b48"
      },
      "execution_count": 15,
      "outputs": [
        {
          "output_type": "stream",
          "name": "stdout",
          "text": [
            "120\n"
          ]
        }
      ]
    },
    {
      "cell_type": "code",
      "source": [
        "sentence='Hello World'\n",
        "words=sentence.split()\n",
        "reversed_sentence=[]\n",
        "for word in words:\n",
        "  reversed_sentence.append(word[::-1])\n",
        "reversed_sentence=' '.join(reversed_sentence)\n",
        "print(reversed_sentence)"
      ],
      "metadata": {
        "colab": {
          "base_uri": "https://localhost:8080/"
        },
        "id": "_Gqx8MmLNztB",
        "outputId": "6ed26b05-97a1-49c6-8da0-b3161cabafdc"
      },
      "execution_count": 18,
      "outputs": [
        {
          "output_type": "stream",
          "name": "stdout",
          "text": [
            "olleH dlroW\n"
          ]
        }
      ]
    },
    {
      "cell_type": "code",
      "source": [
        "sentence='Hello World'\n",
        "words=sentence.split()\n",
        "for word in words:\n",
        "  i=len(word)-1\n",
        "  while i >= 0:\n",
        "    print(word[i],end=' ')\n",
        "    i-=1\n",
        "  print(end=' ')\n"
      ],
      "metadata": {
        "colab": {
          "base_uri": "https://localhost:8080/"
        },
        "id": "f8AQSgDMOI_c",
        "outputId": "4341cc72-59bc-4b4f-9078-f0fd9c819fbc"
      },
      "execution_count": 19,
      "outputs": [
        {
          "output_type": "stream",
          "name": "stdout",
          "text": [
            "o l l e H  d l r o W  "
          ]
        }
      ]
    },
    {
      "cell_type": "code",
      "source": [
        "word='learning'\n",
        "vowels='aeiou'\n",
        "for i in word:\n",
        "  if i in vowels:\n",
        "    print(i,end=' ')"
      ],
      "metadata": {
        "colab": {
          "base_uri": "https://localhost:8080/"
        },
        "id": "8hVPd94MVsUL",
        "outputId": "a1798a24-9f64-48d9-f40b-87fd8dd759e3"
      },
      "execution_count": 22,
      "outputs": [
        {
          "output_type": "stream",
          "name": "stdout",
          "text": [
            "e a i "
          ]
        }
      ]
    },
    {
      "cell_type": "code",
      "source": [
        "word='learning'\n",
        "vowels='aeiou'\n",
        "count=0\n",
        "for i in word:\n",
        "  if i not in vowels:\n",
        "    count+=1\n",
        "    print(i,end=' ')\n",
        "print(count)"
      ],
      "metadata": {
        "colab": {
          "base_uri": "https://localhost:8080/"
        },
        "id": "rTzVscMQW_qk",
        "outputId": "a2056c6b-a891-48fe-d69c-6ccd1d560cb6"
      },
      "execution_count": 36,
      "outputs": [
        {
          "output_type": "stream",
          "name": "stdout",
          "text": [
            "l r n n g 5\n"
          ]
        }
      ]
    },
    {
      "cell_type": "code",
      "source": [
        "word='learning'\n",
        "count=0\n",
        "vowels='aeiou'\n",
        "index=0\n",
        "while index < len(word):\n",
        "  if word[index].lower() not in vowels:\n",
        "    count+=1\n",
        "  index+=1\n",
        "print(count)\n"
      ],
      "metadata": {
        "colab": {
          "base_uri": "https://localhost:8080/"
        },
        "id": "IzcSNQBbYpBI",
        "outputId": "c26d581a-662d-45ab-c36a-ee628355c18c"
      },
      "execution_count": 38,
      "outputs": [
        {
          "output_type": "stream",
          "name": "stdout",
          "text": [
            "5\n"
          ]
        }
      ]
    },
    {
      "cell_type": "code",
      "source": [
        "multiple=3\n",
        "number=1\n",
        "while number <= 5:\n",
        "  print(multiple,end=' ')\n",
        "  multiple+=3\n",
        "  number+=1\n"
      ],
      "metadata": {
        "colab": {
          "base_uri": "https://localhost:8080/"
        },
        "id": "-LZeDDj_awJ2",
        "outputId": "5ceb1312-53b1-488e-f995-7157ab6b2ac7"
      },
      "execution_count": 1,
      "outputs": [
        {
          "output_type": "stream",
          "name": "stdout",
          "text": [
            "3 6 9 12 15 "
          ]
        }
      ]
    },
    {
      "cell_type": "code",
      "source": [
        "number=81\n",
        "for i in range(number):\n",
        "  if i * i == number:\n",
        "    print(number,'is a perfect square')\n",
        "    break\n",
        "else:\n",
        "  print(number,'is not a perfect square')"
      ],
      "metadata": {
        "colab": {
          "base_uri": "https://localhost:8080/"
        },
        "id": "HlMLKQp_xKy8",
        "outputId": "f77c82ce-ce64-4ce3-b711-519a5b94d92b"
      },
      "execution_count": 7,
      "outputs": [
        {
          "output_type": "stream",
          "name": "stdout",
          "text": [
            "81 is a perfect square\n"
          ]
        }
      ]
    },
    {
      "cell_type": "code",
      "source": [
        "string=input()\n",
        "char_to_count=input()\n",
        "count=0\n",
        "index=0\n",
        "while index < len(string):\n",
        "  if string[index] == char_to_count:\n",
        "    count+=1\n",
        "  index+=1\n",
        "print(count)"
      ],
      "metadata": {
        "id": "_udTlYNiyrX9"
      },
      "execution_count": null,
      "outputs": []
    },
    {
      "cell_type": "code",
      "source": [
        "# Factorial\n",
        "number=int(input())\n",
        "factorial=1\n",
        "for i in range(1,number+1):\n",
        "  factorial*=i\n",
        "print(factorial)"
      ],
      "metadata": {
        "colab": {
          "base_uri": "https://localhost:8080/"
        },
        "id": "AlF0fzTBzStz",
        "outputId": "4fd646aa-a530-4f41-8ea6-e28f2bc6d723"
      },
      "execution_count": 8,
      "outputs": [
        {
          "output_type": "stream",
          "name": "stdout",
          "text": [
            "5\n",
            "120\n"
          ]
        }
      ]
    },
    {
      "cell_type": "code",
      "source": [
        "def factorial(n):\n",
        "  if n==0:\n",
        "    return 1\n",
        "  else:\n",
        "    return n*factorial(n-1)\n",
        "number=int(input())\n",
        "print(factorial(number))"
      ],
      "metadata": {
        "colab": {
          "base_uri": "https://localhost:8080/"
        },
        "id": "hJhKWrOiGxDM",
        "outputId": "8bc32ec0-d397-4945-e578-44f821ec57d6"
      },
      "execution_count": 9,
      "outputs": [
        {
          "output_type": "stream",
          "name": "stdout",
          "text": [
            "5\n",
            "120\n"
          ]
        }
      ]
    }
  ],
  "metadata": {
    "colab": {
      "provenance": [],
      "authorship_tag": "ABX9TyPprOgoErjGnFtMJOHwmwz7",
      "include_colab_link": true
    },
    "kernelspec": {
      "display_name": "Python 3",
      "name": "python3"
    },
    "language_info": {
      "name": "python"
    }
  },
  "nbformat": 4,
  "nbformat_minor": 0
}